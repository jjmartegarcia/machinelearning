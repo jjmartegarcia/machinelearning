{
 "cells": [
  {
   "attachments": {},
   "cell_type": "markdown",
   "id": "8cf300ca",
   "metadata": {},
   "source": [
    "# Image recognition with convolutional neural network\n",
    "text"
   ]
  },
  {
   "attachments": {},
   "cell_type": "markdown",
   "id": "d3b9b80b",
   "metadata": {},
   "source": [
    "General"
   ]
  },
  {
   "attachments": {},
   "cell_type": "markdown",
   "id": "aa2a9325",
   "metadata": {},
   "source": [
    "## Dataset\n",
    "### Context\n",
    "Context\n",
    "### Content\n",
    "Context"
   ]
  },
  {
   "attachments": {},
   "cell_type": "markdown",
   "id": "c7ff4b69",
   "metadata": {},
   "source": [
    "## What is a convolutional neural network ?"
   ]
  },
  {
   "attachments": {},
   "cell_type": "markdown",
   "id": "9b1162cf",
   "metadata": {},
   "source": [
    "Explanation"
   ]
  },
  {
   "attachments": {},
   "cell_type": "markdown",
   "id": "0dd87cc7",
   "metadata": {},
   "source": [
    "# Libraries"
   ]
  },
  {
   "cell_type": "code",
   "execution_count": 3,
   "id": "9b883e99",
   "metadata": {},
   "outputs": [],
   "source": [
    "# Libraries.\n"
   ]
  },
  {
   "attachments": {},
   "cell_type": "markdown",
   "id": "d3a88539",
   "metadata": {},
   "source": [
    "# ML Data Engineering"
   ]
  },
  {
   "cell_type": "code",
   "execution_count": 4,
   "id": "4f13d757",
   "metadata": {},
   "outputs": [
    {
     "name": "stdout",
     "output_type": "stream",
     "text": [
      "hello\n"
     ]
    }
   ],
   "source": [
    "print('hello')"
   ]
  },
  {
   "cell_type": "code",
   "execution_count": 5,
   "id": "8beb89d6",
   "metadata": {},
   "outputs": [
    {
     "ename": "NameError",
     "evalue": "name 'pd' is not defined",
     "output_type": "error",
     "traceback": [
      "\u001b[1;31m---------------------------------------------------------------------------\u001b[0m",
      "\u001b[1;31mNameError\u001b[0m                                 Traceback (most recent call last)",
      "Cell \u001b[1;32mIn[5], line 1\u001b[0m\n\u001b[1;32m----> 1\u001b[0m basket \u001b[39m=\u001b[39m pd\u001b[39m.\u001b[39mread_csv(\u001b[39m\"\u001b[39m\u001b[39mgroceries.csv\u001b[39m\u001b[39m\"\u001b[39m)\n\u001b[0;32m      2\u001b[0m basket\u001b[39m.\u001b[39mhead()\n",
      "\u001b[1;31mNameError\u001b[0m: name 'pd' is not defined"
     ]
    }
   ],
   "source": [
    "basket = pd.read_csv(\"groceries.csv\")\n",
    "basket.head()"
   ]
  },
  {
   "attachments": {},
   "cell_type": "markdown",
   "id": "a1028bef",
   "metadata": {},
   "source": [
    "## ML Model Engineering"
   ]
  },
  {
   "attachments": {},
   "cell_type": "markdown",
   "id": "dc092a98",
   "metadata": {},
   "source": [
    "## ML Model Evaluation"
   ]
  },
  {
   "attachments": {},
   "cell_type": "markdown",
   "id": "0cfd3555",
   "metadata": {},
   "source": [
    "## References"
   ]
  },
  {
   "attachments": {},
   "cell_type": "markdown",
   "id": "3b2fd0e9",
   "metadata": {},
   "source": [
    "https://github.com/ltpitt/python-jupyter-image-classification"
   ]
  }
 ],
 "metadata": {
  "kernelspec": {
   "display_name": "Python 3 (ipykernel)",
   "language": "python",
   "name": "python3"
  },
  "language_info": {
   "codemirror_mode": {
    "name": "ipython",
    "version": 3
   },
   "file_extension": ".py",
   "mimetype": "text/x-python",
   "name": "python",
   "nbconvert_exporter": "python",
   "pygments_lexer": "ipython3",
   "version": "3.10.9"
  }
 },
 "nbformat": 4,
 "nbformat_minor": 5
}
